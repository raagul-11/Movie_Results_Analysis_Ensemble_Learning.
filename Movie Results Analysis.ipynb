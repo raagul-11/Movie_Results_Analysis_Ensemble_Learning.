{
 "cells": [
  {
   "cell_type": "markdown",
   "id": "2079d5ab-5d64-440a-ad91-c4f46a80e00a",
   "metadata": {},
   "source": [
    "# ENSEMBLE LEARNING : MOVIE RESULTS ANALYSIS (BAGGING, CROSS VALIDATION, BOOSTING, TUNING)"
   ]
  },
  {
   "cell_type": "markdown",
   "id": "f7a729dd-e7d5-4375-8f12-c107d1d0079d",
   "metadata": {},
   "source": [
    "## Description:"
   ]
  },
  {
   "cell_type": "raw",
   "id": "2a1e4650-40ec-4975-b402-a2b2a423c126",
   "metadata": {
    "jp-MarkdownHeadingCollapsed": true
   },
   "source": [
    "   This project focuses on analyzing a dataset of movies to understand the key factors influencing their success. The notebook covers the complete data analysis workflow from data loading and cleaning to feature engineering, visualization, and predictive modeling."
   ]
  },
  {
   "cell_type": "markdown",
   "id": "c0309823-1f55-487e-8ec8-055d69e578e0",
   "metadata": {},
   "source": [
    "## Data Importing And Understanding :"
   ]
  },
  {
   "cell_type": "raw",
   "id": "8154ad4f-0a03-4b4c-9e66-469cc5641e9e",
   "metadata": {},
   "source": [
    "   Imports essential Python libraries for data analysis and visualization, loads the movie dataset from Excel, and displays it for initial inspection."
   ]
  },
  {
   "cell_type": "code",
   "execution_count": 1,
   "id": "bd400ef3-95aa-4a2e-bbc2-d30df737448f",
   "metadata": {},
   "outputs": [
    {
     "data": {
      "text/html": [
       "<div>\n",
       "<style scoped>\n",
       "    .dataframe tbody tr th:only-of-type {\n",
       "        vertical-align: middle;\n",
       "    }\n",
       "\n",
       "    .dataframe tbody tr th {\n",
       "        vertical-align: top;\n",
       "    }\n",
       "\n",
       "    .dataframe thead th {\n",
       "        text-align: right;\n",
       "    }\n",
       "</style>\n",
       "<table border=\"1\" class=\"dataframe\">\n",
       "  <thead>\n",
       "    <tr style=\"text-align: right;\">\n",
       "      <th></th>\n",
       "      <th>Director_name</th>\n",
       "      <th>Duration</th>\n",
       "      <th>Actor_name</th>\n",
       "      <th>Gross</th>\n",
       "      <th>Genres</th>\n",
       "      <th>Movie_title</th>\n",
       "      <th>Num_voted_users</th>\n",
       "      <th>Facebook_likes</th>\n",
       "      <th>Plot_keywords</th>\n",
       "      <th>Reviews</th>\n",
       "      <th>Language</th>\n",
       "      <th>Country</th>\n",
       "      <th>Budget</th>\n",
       "      <th>Realised_year</th>\n",
       "      <th>Imdb_score</th>\n",
       "      <th>Results</th>\n",
       "    </tr>\n",
       "  </thead>\n",
       "  <tbody>\n",
       "    <tr>\n",
       "      <th>0</th>\n",
       "      <td>James Cameron</td>\n",
       "      <td>178.0</td>\n",
       "      <td>Joel David Moore</td>\n",
       "      <td>760505847.0</td>\n",
       "      <td>Action|Adventure|Fantasy|Sci-Fi</td>\n",
       "      <td>Avatar</td>\n",
       "      <td>886204</td>\n",
       "      <td>4834</td>\n",
       "      <td>avatar|future|marine|native|paraplegic</td>\n",
       "      <td>3054.0</td>\n",
       "      <td>English</td>\n",
       "      <td>USA</td>\n",
       "      <td>237000000.0</td>\n",
       "      <td>2009</td>\n",
       "      <td>7.9</td>\n",
       "      <td>1</td>\n",
       "    </tr>\n",
       "    <tr>\n",
       "      <th>1</th>\n",
       "      <td>Gore Verbinski</td>\n",
       "      <td>169.0</td>\n",
       "      <td>Orlando Bloom</td>\n",
       "      <td>309404152.0</td>\n",
       "      <td>Action|Adventure|Fantasy</td>\n",
       "      <td>Pirates of the Caribbean: At World's End</td>\n",
       "      <td>471220</td>\n",
       "      <td>48350</td>\n",
       "      <td>goddess|marriage ceremony|marriage proposal|pi...</td>\n",
       "      <td>1238.0</td>\n",
       "      <td>English</td>\n",
       "      <td>USA</td>\n",
       "      <td>300000000.0</td>\n",
       "      <td>2007</td>\n",
       "      <td>7.1</td>\n",
       "      <td>1</td>\n",
       "    </tr>\n",
       "    <tr>\n",
       "      <th>2</th>\n",
       "      <td>Sam Mendes</td>\n",
       "      <td>148.0</td>\n",
       "      <td>Rory Kinnear</td>\n",
       "      <td>200074175.0</td>\n",
       "      <td>Action|Adventure|Thriller</td>\n",
       "      <td>Spectre</td>\n",
       "      <td>275868</td>\n",
       "      <td>11700</td>\n",
       "      <td>bomb|espionage|sequel|spy|terrorist</td>\n",
       "      <td>994.0</td>\n",
       "      <td>English</td>\n",
       "      <td>UK</td>\n",
       "      <td>245000000.0</td>\n",
       "      <td>2015</td>\n",
       "      <td>6.8</td>\n",
       "      <td>0</td>\n",
       "    </tr>\n",
       "    <tr>\n",
       "      <th>3</th>\n",
       "      <td>Christopher Nolan</td>\n",
       "      <td>164.0</td>\n",
       "      <td>Christian Bale</td>\n",
       "      <td>448130642.0</td>\n",
       "      <td>Action|Thriller</td>\n",
       "      <td>The Dark Knight Rises</td>\n",
       "      <td>1144337</td>\n",
       "      <td>106759</td>\n",
       "      <td>deception|imprisonment|lawlessness|police offi...</td>\n",
       "      <td>2701.0</td>\n",
       "      <td>English</td>\n",
       "      <td>USA</td>\n",
       "      <td>250000000.0</td>\n",
       "      <td>2012</td>\n",
       "      <td>8.5</td>\n",
       "      <td>1</td>\n",
       "    </tr>\n",
       "    <tr>\n",
       "      <th>4</th>\n",
       "      <td>Andrew Stanton</td>\n",
       "      <td>132.0</td>\n",
       "      <td>Samantha Morton</td>\n",
       "      <td>73058679.0</td>\n",
       "      <td>Action|Adventure|Sci-Fi</td>\n",
       "      <td>John Carter</td>\n",
       "      <td>212204</td>\n",
       "      <td>1873</td>\n",
       "      <td>alien|american civil war|male nipple|mars|prin...</td>\n",
       "      <td>738.0</td>\n",
       "      <td>English</td>\n",
       "      <td>USA</td>\n",
       "      <td>263700000.0</td>\n",
       "      <td>2012</td>\n",
       "      <td>6.6</td>\n",
       "      <td>0</td>\n",
       "    </tr>\n",
       "    <tr>\n",
       "      <th>...</th>\n",
       "      <td>...</td>\n",
       "      <td>...</td>\n",
       "      <td>...</td>\n",
       "      <td>...</td>\n",
       "      <td>...</td>\n",
       "      <td>...</td>\n",
       "      <td>...</td>\n",
       "      <td>...</td>\n",
       "      <td>...</td>\n",
       "      <td>...</td>\n",
       "      <td>...</td>\n",
       "      <td>...</td>\n",
       "      <td>...</td>\n",
       "      <td>...</td>\n",
       "      <td>...</td>\n",
       "      <td>...</td>\n",
       "    </tr>\n",
       "    <tr>\n",
       "      <th>4774</th>\n",
       "      <td>Robert Rodriguez</td>\n",
       "      <td>81.0</td>\n",
       "      <td>Peter Marquardt</td>\n",
       "      <td>2040920.0</td>\n",
       "      <td>Action|Crime|Drama|Romance|Thriller</td>\n",
       "      <td>El Mariachi</td>\n",
       "      <td>52055</td>\n",
       "      <td>147</td>\n",
       "      <td>assassin|death|guitar|gun|mariachi</td>\n",
       "      <td>130.0</td>\n",
       "      <td>Spanish</td>\n",
       "      <td>USA</td>\n",
       "      <td>7000.0</td>\n",
       "      <td>1992</td>\n",
       "      <td>6.9</td>\n",
       "      <td>1</td>\n",
       "    </tr>\n",
       "    <tr>\n",
       "      <th>4775</th>\n",
       "      <td>Anthony Vallone</td>\n",
       "      <td>84.0</td>\n",
       "      <td>John Considine</td>\n",
       "      <td>NaN</td>\n",
       "      <td>Crime|Drama</td>\n",
       "      <td>The Mongol King</td>\n",
       "      <td>36</td>\n",
       "      <td>93</td>\n",
       "      <td>jewell|mongol|nostradamus|stepnicka|vallone</td>\n",
       "      <td>1.0</td>\n",
       "      <td>English</td>\n",
       "      <td>USA</td>\n",
       "      <td>3250.0</td>\n",
       "      <td>2005</td>\n",
       "      <td>7.8</td>\n",
       "      <td>0</td>\n",
       "    </tr>\n",
       "    <tr>\n",
       "      <th>4776</th>\n",
       "      <td>Edward Burns</td>\n",
       "      <td>95.0</td>\n",
       "      <td>Caitlin FitzGerald</td>\n",
       "      <td>4584.0</td>\n",
       "      <td>Comedy|Drama</td>\n",
       "      <td>Newlyweds</td>\n",
       "      <td>1338</td>\n",
       "      <td>690</td>\n",
       "      <td>written and directed by cast member</td>\n",
       "      <td>14.0</td>\n",
       "      <td>English</td>\n",
       "      <td>USA</td>\n",
       "      <td>9000.0</td>\n",
       "      <td>2011</td>\n",
       "      <td>6.4</td>\n",
       "      <td>0</td>\n",
       "    </tr>\n",
       "    <tr>\n",
       "      <th>4777</th>\n",
       "      <td>Scott Smith</td>\n",
       "      <td>87.0</td>\n",
       "      <td>Daphne Zuniga</td>\n",
       "      <td>NaN</td>\n",
       "      <td>Comedy|Drama</td>\n",
       "      <td>Signed Sealed Delivered</td>\n",
       "      <td>629</td>\n",
       "      <td>2283</td>\n",
       "      <td>fraud|postal worker|prison|theft|trial</td>\n",
       "      <td>6.0</td>\n",
       "      <td>English</td>\n",
       "      <td>Canada</td>\n",
       "      <td>NaN</td>\n",
       "      <td>2013</td>\n",
       "      <td>7.7</td>\n",
       "      <td>0</td>\n",
       "    </tr>\n",
       "    <tr>\n",
       "      <th>4778</th>\n",
       "      <td>Jon Gunn</td>\n",
       "      <td>90.0</td>\n",
       "      <td>Brian Herzlinger</td>\n",
       "      <td>85222.0</td>\n",
       "      <td>Documentary</td>\n",
       "      <td>My Date with Drew</td>\n",
       "      <td>4285</td>\n",
       "      <td>163</td>\n",
       "      <td>actress name in title|crush|date|four word tit...</td>\n",
       "      <td>84.0</td>\n",
       "      <td>English</td>\n",
       "      <td>USA</td>\n",
       "      <td>1100.0</td>\n",
       "      <td>2004</td>\n",
       "      <td>6.6</td>\n",
       "      <td>1</td>\n",
       "    </tr>\n",
       "  </tbody>\n",
       "</table>\n",
       "<p>4779 rows × 16 columns</p>\n",
       "</div>"
      ],
      "text/plain": [
       "          Director_name  Duration          Actor_name        Gross  \\\n",
       "0         James Cameron     178.0    Joel David Moore  760505847.0   \n",
       "1        Gore Verbinski     169.0       Orlando Bloom  309404152.0   \n",
       "2            Sam Mendes     148.0        Rory Kinnear  200074175.0   \n",
       "3     Christopher Nolan     164.0      Christian Bale  448130642.0   \n",
       "4        Andrew Stanton     132.0     Samantha Morton   73058679.0   \n",
       "...                 ...       ...                 ...          ...   \n",
       "4774   Robert Rodriguez      81.0     Peter Marquardt    2040920.0   \n",
       "4775    Anthony Vallone      84.0      John Considine          NaN   \n",
       "4776       Edward Burns      95.0  Caitlin FitzGerald       4584.0   \n",
       "4777        Scott Smith      87.0       Daphne Zuniga          NaN   \n",
       "4778           Jon Gunn      90.0    Brian Herzlinger      85222.0   \n",
       "\n",
       "                                   Genres  \\\n",
       "0         Action|Adventure|Fantasy|Sci-Fi   \n",
       "1                Action|Adventure|Fantasy   \n",
       "2               Action|Adventure|Thriller   \n",
       "3                         Action|Thriller   \n",
       "4                 Action|Adventure|Sci-Fi   \n",
       "...                                   ...   \n",
       "4774  Action|Crime|Drama|Romance|Thriller   \n",
       "4775                          Crime|Drama   \n",
       "4776                         Comedy|Drama   \n",
       "4777                         Comedy|Drama   \n",
       "4778                          Documentary   \n",
       "\n",
       "                                    Movie_title  Num_voted_users  \\\n",
       "0                                       Avatar            886204   \n",
       "1     Pirates of the Caribbean: At World's End            471220   \n",
       "2                                      Spectre            275868   \n",
       "3                        The Dark Knight Rises           1144337   \n",
       "4                                  John Carter            212204   \n",
       "...                                         ...              ...   \n",
       "4774                               El Mariachi             52055   \n",
       "4775                           The Mongol King                36   \n",
       "4776                                 Newlyweds              1338   \n",
       "4777                   Signed Sealed Delivered               629   \n",
       "4778                         My Date with Drew              4285   \n",
       "\n",
       "      Facebook_likes                                      Plot_keywords  \\\n",
       "0               4834             avatar|future|marine|native|paraplegic   \n",
       "1              48350  goddess|marriage ceremony|marriage proposal|pi...   \n",
       "2              11700                bomb|espionage|sequel|spy|terrorist   \n",
       "3             106759  deception|imprisonment|lawlessness|police offi...   \n",
       "4               1873  alien|american civil war|male nipple|mars|prin...   \n",
       "...              ...                                                ...   \n",
       "4774             147                 assassin|death|guitar|gun|mariachi   \n",
       "4775              93        jewell|mongol|nostradamus|stepnicka|vallone   \n",
       "4776             690                written and directed by cast member   \n",
       "4777            2283             fraud|postal worker|prison|theft|trial   \n",
       "4778             163  actress name in title|crush|date|four word tit...   \n",
       "\n",
       "      Reviews Language Country       Budget  Realised_year  Imdb_score  \\\n",
       "0      3054.0  English     USA  237000000.0           2009         7.9   \n",
       "1      1238.0  English     USA  300000000.0           2007         7.1   \n",
       "2       994.0  English      UK  245000000.0           2015         6.8   \n",
       "3      2701.0  English     USA  250000000.0           2012         8.5   \n",
       "4       738.0  English     USA  263700000.0           2012         6.6   \n",
       "...       ...      ...     ...          ...            ...         ...   \n",
       "4774    130.0  Spanish     USA       7000.0           1992         6.9   \n",
       "4775      1.0  English     USA       3250.0           2005         7.8   \n",
       "4776     14.0  English     USA       9000.0           2011         6.4   \n",
       "4777      6.0  English  Canada          NaN           2013         7.7   \n",
       "4778     84.0  English     USA       1100.0           2004         6.6   \n",
       "\n",
       "      Results  \n",
       "0           1  \n",
       "1           1  \n",
       "2           0  \n",
       "3           1  \n",
       "4           0  \n",
       "...       ...  \n",
       "4774        1  \n",
       "4775        0  \n",
       "4776        0  \n",
       "4777        0  \n",
       "4778        1  \n",
       "\n",
       "[4779 rows x 16 columns]"
      ]
     },
     "execution_count": 1,
     "metadata": {},
     "output_type": "execute_result"
    }
   ],
   "source": [
    "import numpy as np\n",
    "import pandas as pd\n",
    "import seaborn as sns\n",
    "import matplotlib.pyplot as plt\n",
    "mov = pd.read_excel(r'C:\\Users\\jagha\\Downloads\\Movie_Results.xlsx')\n",
    "mov"
   ]
  },
  {
   "cell_type": "raw",
   "id": "1345c5f7-d037-4b84-856c-82e1e68d77fc",
   "metadata": {},
   "source": [
    "Column Description : Movie Results Dataset\n",
    "\n",
    "Movie_title     - The name or title of the movie. \n",
    "Director_name   - The director who directed the movie.\n",
    "Actor_name      - The lead actor or actress starring in the movie.\n",
    "Gross\t        - The total revenue or box office collection of the movie.\n",
    "IMDB_Rating\t    - The rating given to the movie by users on IMDb (usually between 1 and 10).\n",
    "Runtime \t    - The duration of the movie in minutes.\n",
    "Release_Year\t- The year in which the movie was released.\n",
    "Votes\t        - The total number of user votes or reviews received on IMDb.\n",
    "Results\t        - The success status of the movie — usually labeled as Hit, Average, or Flop."
   ]
  },
  {
   "cell_type": "code",
   "execution_count": 2,
   "id": "4373bc06-bb61-444e-b443-98b5501e5d8f",
   "metadata": {},
   "outputs": [
    {
     "data": {
      "text/html": [
       "<div>\n",
       "<style scoped>\n",
       "    .dataframe tbody tr th:only-of-type {\n",
       "        vertical-align: middle;\n",
       "    }\n",
       "\n",
       "    .dataframe tbody tr th {\n",
       "        vertical-align: top;\n",
       "    }\n",
       "\n",
       "    .dataframe thead th {\n",
       "        text-align: right;\n",
       "    }\n",
       "</style>\n",
       "<table border=\"1\" class=\"dataframe\">\n",
       "  <thead>\n",
       "    <tr style=\"text-align: right;\">\n",
       "      <th></th>\n",
       "      <th>Director_name</th>\n",
       "      <th>Duration</th>\n",
       "      <th>Actor_name</th>\n",
       "      <th>Gross</th>\n",
       "      <th>Genres</th>\n",
       "      <th>Movie_title</th>\n",
       "      <th>Num_voted_users</th>\n",
       "      <th>Facebook_likes</th>\n",
       "      <th>Plot_keywords</th>\n",
       "      <th>Reviews</th>\n",
       "      <th>Language</th>\n",
       "      <th>Country</th>\n",
       "      <th>Budget</th>\n",
       "      <th>Realised_year</th>\n",
       "      <th>Imdb_score</th>\n",
       "      <th>Results</th>\n",
       "    </tr>\n",
       "  </thead>\n",
       "  <tbody>\n",
       "    <tr>\n",
       "      <th>0</th>\n",
       "      <td>James Cameron</td>\n",
       "      <td>178.0</td>\n",
       "      <td>Joel David Moore</td>\n",
       "      <td>760505847.0</td>\n",
       "      <td>Action|Adventure|Fantasy|Sci-Fi</td>\n",
       "      <td>Avatar</td>\n",
       "      <td>886204</td>\n",
       "      <td>4834</td>\n",
       "      <td>avatar|future|marine|native|paraplegic</td>\n",
       "      <td>3054.0</td>\n",
       "      <td>English</td>\n",
       "      <td>USA</td>\n",
       "      <td>237000000.0</td>\n",
       "      <td>2009</td>\n",
       "      <td>7.9</td>\n",
       "      <td>1</td>\n",
       "    </tr>\n",
       "    <tr>\n",
       "      <th>1</th>\n",
       "      <td>Gore Verbinski</td>\n",
       "      <td>169.0</td>\n",
       "      <td>Orlando Bloom</td>\n",
       "      <td>309404152.0</td>\n",
       "      <td>Action|Adventure|Fantasy</td>\n",
       "      <td>Pirates of the Caribbean: At World's End</td>\n",
       "      <td>471220</td>\n",
       "      <td>48350</td>\n",
       "      <td>goddess|marriage ceremony|marriage proposal|pi...</td>\n",
       "      <td>1238.0</td>\n",
       "      <td>English</td>\n",
       "      <td>USA</td>\n",
       "      <td>300000000.0</td>\n",
       "      <td>2007</td>\n",
       "      <td>7.1</td>\n",
       "      <td>1</td>\n",
       "    </tr>\n",
       "    <tr>\n",
       "      <th>2</th>\n",
       "      <td>Sam Mendes</td>\n",
       "      <td>148.0</td>\n",
       "      <td>Rory Kinnear</td>\n",
       "      <td>200074175.0</td>\n",
       "      <td>Action|Adventure|Thriller</td>\n",
       "      <td>Spectre</td>\n",
       "      <td>275868</td>\n",
       "      <td>11700</td>\n",
       "      <td>bomb|espionage|sequel|spy|terrorist</td>\n",
       "      <td>994.0</td>\n",
       "      <td>English</td>\n",
       "      <td>UK</td>\n",
       "      <td>245000000.0</td>\n",
       "      <td>2015</td>\n",
       "      <td>6.8</td>\n",
       "      <td>0</td>\n",
       "    </tr>\n",
       "    <tr>\n",
       "      <th>3</th>\n",
       "      <td>Christopher Nolan</td>\n",
       "      <td>164.0</td>\n",
       "      <td>Christian Bale</td>\n",
       "      <td>448130642.0</td>\n",
       "      <td>Action|Thriller</td>\n",
       "      <td>The Dark Knight Rises</td>\n",
       "      <td>1144337</td>\n",
       "      <td>106759</td>\n",
       "      <td>deception|imprisonment|lawlessness|police offi...</td>\n",
       "      <td>2701.0</td>\n",
       "      <td>English</td>\n",
       "      <td>USA</td>\n",
       "      <td>250000000.0</td>\n",
       "      <td>2012</td>\n",
       "      <td>8.5</td>\n",
       "      <td>1</td>\n",
       "    </tr>\n",
       "    <tr>\n",
       "      <th>4</th>\n",
       "      <td>Andrew Stanton</td>\n",
       "      <td>132.0</td>\n",
       "      <td>Samantha Morton</td>\n",
       "      <td>73058679.0</td>\n",
       "      <td>Action|Adventure|Sci-Fi</td>\n",
       "      <td>John Carter</td>\n",
       "      <td>212204</td>\n",
       "      <td>1873</td>\n",
       "      <td>alien|american civil war|male nipple|mars|prin...</td>\n",
       "      <td>738.0</td>\n",
       "      <td>English</td>\n",
       "      <td>USA</td>\n",
       "      <td>263700000.0</td>\n",
       "      <td>2012</td>\n",
       "      <td>6.6</td>\n",
       "      <td>0</td>\n",
       "    </tr>\n",
       "  </tbody>\n",
       "</table>\n",
       "</div>"
      ],
      "text/plain": [
       "       Director_name  Duration        Actor_name        Gross  \\\n",
       "0      James Cameron     178.0  Joel David Moore  760505847.0   \n",
       "1     Gore Verbinski     169.0     Orlando Bloom  309404152.0   \n",
       "2         Sam Mendes     148.0      Rory Kinnear  200074175.0   \n",
       "3  Christopher Nolan     164.0    Christian Bale  448130642.0   \n",
       "4     Andrew Stanton     132.0   Samantha Morton   73058679.0   \n",
       "\n",
       "                            Genres                                Movie_title  \\\n",
       "0  Action|Adventure|Fantasy|Sci-Fi                                    Avatar    \n",
       "1         Action|Adventure|Fantasy  Pirates of the Caribbean: At World's End    \n",
       "2        Action|Adventure|Thriller                                   Spectre    \n",
       "3                  Action|Thriller                     The Dark Knight Rises    \n",
       "4          Action|Adventure|Sci-Fi                               John Carter    \n",
       "\n",
       "   Num_voted_users  Facebook_likes  \\\n",
       "0           886204            4834   \n",
       "1           471220           48350   \n",
       "2           275868           11700   \n",
       "3          1144337          106759   \n",
       "4           212204            1873   \n",
       "\n",
       "                                       Plot_keywords  Reviews Language  \\\n",
       "0             avatar|future|marine|native|paraplegic   3054.0  English   \n",
       "1  goddess|marriage ceremony|marriage proposal|pi...   1238.0  English   \n",
       "2                bomb|espionage|sequel|spy|terrorist    994.0  English   \n",
       "3  deception|imprisonment|lawlessness|police offi...   2701.0  English   \n",
       "4  alien|american civil war|male nipple|mars|prin...    738.0  English   \n",
       "\n",
       "  Country       Budget  Realised_year  Imdb_score  Results  \n",
       "0     USA  237000000.0           2009         7.9        1  \n",
       "1     USA  300000000.0           2007         7.1        1  \n",
       "2      UK  245000000.0           2015         6.8        0  \n",
       "3     USA  250000000.0           2012         8.5        1  \n",
       "4     USA  263700000.0           2012         6.6        0  "
      ]
     },
     "execution_count": 2,
     "metadata": {},
     "output_type": "execute_result"
    }
   ],
   "source": [
    "# Show top five Rows\n",
    "mov.head()"
   ]
  },
  {
   "cell_type": "code",
   "execution_count": 3,
   "id": "41692f01-bd54-4b3a-bf85-a2c82a7f2089",
   "metadata": {},
   "outputs": [
    {
     "data": {
      "text/plain": [
       "(4779, 16)"
      ]
     },
     "execution_count": 3,
     "metadata": {},
     "output_type": "execute_result"
    }
   ],
   "source": [
    "# Shows the number of rows and columns\n",
    "mov.shape"
   ]
  },
  {
   "cell_type": "code",
   "execution_count": 4,
   "id": "4f33633a-79c1-436d-a3c4-755f667b2736",
   "metadata": {},
   "outputs": [
    {
     "name": "stdout",
     "output_type": "stream",
     "text": [
      "<class 'pandas.core.frame.DataFrame'>\n",
      "RangeIndex: 4779 entries, 0 to 4778\n",
      "Data columns (total 16 columns):\n",
      " #   Column           Non-Null Count  Dtype  \n",
      "---  ------           --------------  -----  \n",
      " 0   Director_name    4779 non-null   object \n",
      " 1   Duration         4773 non-null   float64\n",
      " 2   Actor_name       4779 non-null   object \n",
      " 3   Gross            4108 non-null   float64\n",
      " 4   Genres           4779 non-null   object \n",
      " 5   Movie_title      4779 non-null   object \n",
      " 6   Num_voted_users  4779 non-null   int64  \n",
      " 7   Facebook_likes   4779 non-null   int64  \n",
      " 8   Plot_keywords    4779 non-null   object \n",
      " 9   Reviews          4774 non-null   float64\n",
      " 10  Language         4777 non-null   object \n",
      " 11  Country          4779 non-null   object \n",
      " 12  Budget           4415 non-null   float64\n",
      " 13  Realised_year    4779 non-null   int64  \n",
      " 14  Imdb_score       4779 non-null   float64\n",
      " 15  Results          4779 non-null   int64  \n",
      "dtypes: float64(5), int64(4), object(7)\n",
      "memory usage: 597.5+ KB\n"
     ]
    }
   ],
   "source": [
    "# Identify missing values and understand data structure.\n",
    "mov.info()"
   ]
  },
  {
   "cell_type": "markdown",
   "id": "7fdf845e-8189-49db-826b-aacdace47a0c",
   "metadata": {},
   "source": [
    "## Data Preprocessing :"
   ]
  },
  {
   "cell_type": "markdown",
   "id": "f9d1edaa-1e60-4f49-9245-edb5eaca06d9",
   "metadata": {},
   "source": [
    "### Find and Sum the null Values :"
   ]
  },
  {
   "cell_type": "code",
   "execution_count": 5,
   "id": "fc112a27-0dc6-44d4-ab70-c41f08cdc59e",
   "metadata": {},
   "outputs": [
    {
     "data": {
      "text/plain": [
       "Director_name        0\n",
       "Duration             6\n",
       "Actor_name           0\n",
       "Gross              671\n",
       "Genres               0\n",
       "Movie_title          0\n",
       "Num_voted_users      0\n",
       "Facebook_likes       0\n",
       "Plot_keywords        0\n",
       "Reviews              5\n",
       "Language             2\n",
       "Country              0\n",
       "Budget             364\n",
       "Realised_year        0\n",
       "Imdb_score           0\n",
       "Results              0\n",
       "dtype: int64"
      ]
     },
     "execution_count": 5,
     "metadata": {},
     "output_type": "execute_result"
    }
   ],
   "source": [
    "mov.isnull().sum()"
   ]
  },
  {
   "cell_type": "code",
   "execution_count": null,
   "id": "6b90e864-83c2-4329-a756-ec45710d253a",
   "metadata": {},
   "outputs": [],
   "source": []
  },
  {
   "cell_type": "markdown",
   "id": "db8b14b2-91f3-4d04-a27c-5fc1ee67d531",
   "metadata": {},
   "source": [
    "### Fill The Null Values :"
   ]
  },
  {
   "cell_type": "code",
   "execution_count": 6,
   "id": "ed4f775b-863e-4b77-a894-724b442a6da0",
   "metadata": {},
   "outputs": [
    {
     "name": "stderr",
     "output_type": "stream",
     "text": [
      "C:\\Users\\jagha\\AppData\\Local\\Temp\\ipykernel_15292\\213620055.py:1: FutureWarning: A value is trying to be set on a copy of a DataFrame or Series through chained assignment using an inplace method.\n",
      "The behavior will change in pandas 3.0. This inplace method will never work because the intermediate object on which we are setting values always behaves as a copy.\n",
      "\n",
      "For example, when doing 'df[col].method(value, inplace=True)', try using 'df.method({col: value}, inplace=True)' or df[col] = df[col].method(value) instead, to perform the operation inplace on the original object.\n",
      "\n",
      "\n",
      "  mov['Duration'].fillna(mov['Duration'].mean(), inplace = True)\n",
      "C:\\Users\\jagha\\AppData\\Local\\Temp\\ipykernel_15292\\213620055.py:2: FutureWarning: A value is trying to be set on a copy of a DataFrame or Series through chained assignment using an inplace method.\n",
      "The behavior will change in pandas 3.0. This inplace method will never work because the intermediate object on which we are setting values always behaves as a copy.\n",
      "\n",
      "For example, when doing 'df[col].method(value, inplace=True)', try using 'df.method({col: value}, inplace=True)' or df[col] = df[col].method(value) instead, to perform the operation inplace on the original object.\n",
      "\n",
      "\n",
      "  mov['Gross'].fillna(mov['Gross'].mean(), inplace = True)\n",
      "C:\\Users\\jagha\\AppData\\Local\\Temp\\ipykernel_15292\\213620055.py:3: FutureWarning: A value is trying to be set on a copy of a DataFrame or Series through chained assignment using an inplace method.\n",
      "The behavior will change in pandas 3.0. This inplace method will never work because the intermediate object on which we are setting values always behaves as a copy.\n",
      "\n",
      "For example, when doing 'df[col].method(value, inplace=True)', try using 'df.method({col: value}, inplace=True)' or df[col] = df[col].method(value) instead, to perform the operation inplace on the original object.\n",
      "\n",
      "\n",
      "  mov['Reviews'].fillna(mov['Reviews'].mean(), inplace = True)\n",
      "C:\\Users\\jagha\\AppData\\Local\\Temp\\ipykernel_15292\\213620055.py:4: FutureWarning: A value is trying to be set on a copy of a DataFrame or Series through chained assignment using an inplace method.\n",
      "The behavior will change in pandas 3.0. This inplace method will never work because the intermediate object on which we are setting values always behaves as a copy.\n",
      "\n",
      "For example, when doing 'df[col].method(value, inplace=True)', try using 'df.method({col: value}, inplace=True)' or df[col] = df[col].method(value) instead, to perform the operation inplace on the original object.\n",
      "\n",
      "\n",
      "  mov['Budget'].fillna(mov['Budget'].mean(), inplace = True)\n",
      "C:\\Users\\jagha\\AppData\\Local\\Temp\\ipykernel_15292\\213620055.py:5: FutureWarning: A value is trying to be set on a copy of a DataFrame or Series through chained assignment using an inplace method.\n",
      "The behavior will change in pandas 3.0. This inplace method will never work because the intermediate object on which we are setting values always behaves as a copy.\n",
      "\n",
      "For example, when doing 'df[col].method(value, inplace=True)', try using 'df.method({col: value}, inplace=True)' or df[col] = df[col].method(value) instead, to perform the operation inplace on the original object.\n",
      "\n",
      "\n",
      "  mov['Language'].fillna(mov['Language'].mode()[0], inplace=True)\n"
     ]
    }
   ],
   "source": [
    "mov['Duration'].fillna(mov['Duration'].mean(), inplace = True)\n",
    "mov['Gross'].fillna(mov['Gross'].mean(), inplace = True)\n",
    "mov['Reviews'].fillna(mov['Reviews'].mean(), inplace = True)\n",
    "mov['Budget'].fillna(mov['Budget'].mean(), inplace = True)\n",
    "mov['Language'].fillna(mov['Language'].mode()[0], inplace=True)"
   ]
  },
  {
   "cell_type": "code",
   "execution_count": 7,
   "id": "96c53533-27b2-46df-89bc-2f48aae7c623",
   "metadata": {},
   "outputs": [
    {
     "data": {
      "text/plain": [
       "Director_name      0\n",
       "Duration           0\n",
       "Actor_name         0\n",
       "Gross              0\n",
       "Genres             0\n",
       "Movie_title        0\n",
       "Num_voted_users    0\n",
       "Facebook_likes     0\n",
       "Plot_keywords      0\n",
       "Reviews            0\n",
       "Language           0\n",
       "Country            0\n",
       "Budget             0\n",
       "Realised_year      0\n",
       "Imdb_score         0\n",
       "Results            0\n",
       "dtype: int64"
      ]
     },
     "execution_count": 7,
     "metadata": {},
     "output_type": "execute_result"
    }
   ],
   "source": [
    "# Check the null Values\n",
    "mov.isnull().sum()"
   ]
  },
  {
   "cell_type": "code",
   "execution_count": 8,
   "id": "bf22c344-9c90-4e68-9b3f-2cea73d5bc9a",
   "metadata": {
    "scrolled": true
   },
   "outputs": [
    {
     "data": {
      "text/html": [
       "<div>\n",
       "<style scoped>\n",
       "    .dataframe tbody tr th:only-of-type {\n",
       "        vertical-align: middle;\n",
       "    }\n",
       "\n",
       "    .dataframe tbody tr th {\n",
       "        vertical-align: top;\n",
       "    }\n",
       "\n",
       "    .dataframe thead th {\n",
       "        text-align: right;\n",
       "    }\n",
       "</style>\n",
       "<table border=\"1\" class=\"dataframe\">\n",
       "  <thead>\n",
       "    <tr style=\"text-align: right;\">\n",
       "      <th></th>\n",
       "      <th>Duration</th>\n",
       "      <th>Gross</th>\n",
       "      <th>Num_voted_users</th>\n",
       "      <th>Facebook_likes</th>\n",
       "      <th>Reviews</th>\n",
       "      <th>Budget</th>\n",
       "      <th>Realised_year</th>\n",
       "      <th>Imdb_score</th>\n",
       "      <th>Results</th>\n",
       "    </tr>\n",
       "  </thead>\n",
       "  <tbody>\n",
       "    <tr>\n",
       "      <th>count</th>\n",
       "      <td>4779.000000</td>\n",
       "      <td>4.779000e+03</td>\n",
       "      <td>4.779000e+03</td>\n",
       "      <td>4779.000000</td>\n",
       "      <td>4779.000000</td>\n",
       "      <td>4.779000e+03</td>\n",
       "      <td>4779.000000</td>\n",
       "      <td>4779.000000</td>\n",
       "      <td>4779.000000</td>\n",
       "    </tr>\n",
       "    <tr>\n",
       "      <th>mean</th>\n",
       "      <td>108.514771</td>\n",
       "      <td>4.905757e+07</td>\n",
       "      <td>8.758961e+04</td>\n",
       "      <td>10054.972588</td>\n",
       "      <td>284.585672</td>\n",
       "      <td>4.077819e+07</td>\n",
       "      <td>2002.210714</td>\n",
       "      <td>6.430341</td>\n",
       "      <td>0.427286</td>\n",
       "    </tr>\n",
       "    <tr>\n",
       "      <th>std</th>\n",
       "      <td>22.588907</td>\n",
       "      <td>6.366599e+07</td>\n",
       "      <td>1.410286e+05</td>\n",
       "      <td>18187.920341</td>\n",
       "      <td>383.376298</td>\n",
       "      <td>2.010379e+08</td>\n",
       "      <td>12.350155</td>\n",
       "      <td>1.103674</td>\n",
       "      <td>0.494736</td>\n",
       "    </tr>\n",
       "    <tr>\n",
       "      <th>min</th>\n",
       "      <td>7.000000</td>\n",
       "      <td>1.620000e+02</td>\n",
       "      <td>5.000000e+00</td>\n",
       "      <td>0.000000</td>\n",
       "      <td>1.000000</td>\n",
       "      <td>2.180000e+02</td>\n",
       "      <td>1927.000000</td>\n",
       "      <td>1.600000</td>\n",
       "      <td>0.000000</td>\n",
       "    </tr>\n",
       "    <tr>\n",
       "      <th>25%</th>\n",
       "      <td>94.000000</td>\n",
       "      <td>8.109804e+06</td>\n",
       "      <td>1.049100e+04</td>\n",
       "      <td>1490.500000</td>\n",
       "      <td>74.000000</td>\n",
       "      <td>8.000000e+06</td>\n",
       "      <td>1999.000000</td>\n",
       "      <td>5.800000</td>\n",
       "      <td>0.000000</td>\n",
       "    </tr>\n",
       "    <tr>\n",
       "      <th>50%</th>\n",
       "      <td>104.000000</td>\n",
       "      <td>3.500063e+07</td>\n",
       "      <td>3.763500e+04</td>\n",
       "      <td>3221.000000</td>\n",
       "      <td>166.000000</td>\n",
       "      <td>2.300000e+07</td>\n",
       "      <td>2005.000000</td>\n",
       "      <td>6.600000</td>\n",
       "      <td>0.000000</td>\n",
       "    </tr>\n",
       "    <tr>\n",
       "      <th>75%</th>\n",
       "      <td>118.000000</td>\n",
       "      <td>5.422505e+07</td>\n",
       "      <td>1.018370e+05</td>\n",
       "      <td>14420.500000</td>\n",
       "      <td>339.500000</td>\n",
       "      <td>4.077819e+07</td>\n",
       "      <td>2010.000000</td>\n",
       "      <td>7.200000</td>\n",
       "      <td>1.000000</td>\n",
       "    </tr>\n",
       "    <tr>\n",
       "      <th>max</th>\n",
       "      <td>330.000000</td>\n",
       "      <td>7.605058e+08</td>\n",
       "      <td>1.689764e+06</td>\n",
       "      <td>656730.000000</td>\n",
       "      <td>5060.000000</td>\n",
       "      <td>1.221550e+10</td>\n",
       "      <td>2016.000000</td>\n",
       "      <td>9.300000</td>\n",
       "      <td>1.000000</td>\n",
       "    </tr>\n",
       "  </tbody>\n",
       "</table>\n",
       "</div>"
      ],
      "text/plain": [
       "          Duration         Gross  Num_voted_users  Facebook_likes  \\\n",
       "count  4779.000000  4.779000e+03     4.779000e+03     4779.000000   \n",
       "mean    108.514771  4.905757e+07     8.758961e+04    10054.972588   \n",
       "std      22.588907  6.366599e+07     1.410286e+05    18187.920341   \n",
       "min       7.000000  1.620000e+02     5.000000e+00        0.000000   \n",
       "25%      94.000000  8.109804e+06     1.049100e+04     1490.500000   \n",
       "50%     104.000000  3.500063e+07     3.763500e+04     3221.000000   \n",
       "75%     118.000000  5.422505e+07     1.018370e+05    14420.500000   \n",
       "max     330.000000  7.605058e+08     1.689764e+06   656730.000000   \n",
       "\n",
       "           Reviews        Budget  Realised_year   Imdb_score      Results  \n",
       "count  4779.000000  4.779000e+03    4779.000000  4779.000000  4779.000000  \n",
       "mean    284.585672  4.077819e+07    2002.210714     6.430341     0.427286  \n",
       "std     383.376298  2.010379e+08      12.350155     1.103674     0.494736  \n",
       "min       1.000000  2.180000e+02    1927.000000     1.600000     0.000000  \n",
       "25%      74.000000  8.000000e+06    1999.000000     5.800000     0.000000  \n",
       "50%     166.000000  2.300000e+07    2005.000000     6.600000     0.000000  \n",
       "75%     339.500000  4.077819e+07    2010.000000     7.200000     1.000000  \n",
       "max    5060.000000  1.221550e+10    2016.000000     9.300000     1.000000  "
      ]
     },
     "execution_count": 8,
     "metadata": {},
     "output_type": "execute_result"
    }
   ],
   "source": [
    "#  Statistical summary (mean, min, max, quartiles) for numeric columns.\n",
    "mov.describe()"
   ]
  },
  {
   "cell_type": "code",
   "execution_count": 9,
   "id": "cf1d2357-9aae-4795-904d-84cea78bb394",
   "metadata": {},
   "outputs": [
    {
     "data": {
      "image/png": "[encoded data removed]",
      "text/plain": [
       "<Figure size 640x480 with 2 Axes>"
      ]
     },
     "metadata": {},
     "output_type": "display_data"
    }
   ],
   "source": [
    "#Correlation Heat Map\n",
    "Select_columns = ['Duration','Gross','Reviews','Budget','Realised_year','Imdb_score','Results']\n",
    "mov_Selected = mov[Select_columns]\n",
    "\n",
    "correlation = mov_Selected.corr()\n",
    "sns.heatmap(correlation, annot = True )\n",
    "plt.title('heatmap')\n",
    "plt.show()"
   ]
  },
  {
   "cell_type": "code",
   "execution_count": 10,
   "id": "b988d6d0-ba85-4eac-bb3a-73aa7d8a8b7e",
   "metadata": {},
   "outputs": [
    {
     "data": {
      "text/plain": [
       "Results\n",
       "0    2737\n",
       "1    2042\n",
       "Name: count, dtype: int64"
      ]
     },
     "execution_count": 10,
     "metadata": {},
     "output_type": "execute_result"
    }
   ],
   "source": [
    "mov.Results.value_counts()"
   ]
  },
  {
   "cell_type": "markdown",
   "id": "c81829c2-33b1-493a-9e79-7ebd7eda0f16",
   "metadata": {},
   "source": [
    "### Train Test Spilt :"
   ]
  },
  {
   "cell_type": "code",
   "execution_count": 11,
   "id": "5e0c674e-9787-41ae-ab0f-46dc443ac647",
   "metadata": {},
   "outputs": [],
   "source": [
    "X = mov.drop(['Director_name','Actor_name','Genres','Movie_title',\n",
    "              'Plot_keywords','Language','Country','Results'], axis = 1)\n",
    "y = mov.Results"
   ]
  },
  {
   "cell_type": "code",
   "execution_count": 12,
   "id": "cba3b18e-7a73-402f-9ee0-dfd501e717e8",
   "metadata": {},
   "outputs": [
    {
     "data": {
      "text/plain": [
       "array([[ 3.07639939, 11.17586802,  5.66337396, -0.28708719,  7.22450537,\n",
       "         0.97614611,  0.54979041,  1.33174575],\n",
       "       [ 2.67793205,  4.08968453,  2.72051493,  2.10574018,  2.48714931,\n",
       "         1.28955268,  0.38783218,  0.60681796],\n",
       "       [ 1.74817493,  2.37226186,  1.33517623,  0.09045562,  1.8506323 ,\n",
       "         1.01594377,  1.03566511,  0.33497004]])"
      ]
     },
     "execution_count": 12,
     "metadata": {},
     "output_type": "execute_result"
    }
   ],
   "source": [
    "from sklearn.preprocessing import StandardScaler\n",
    "scaler = StandardScaler()\n",
    "X_scaled = scaler.fit_transform(X)\n",
    "X_scaled[:3]\n"
   ]
  },
  {
   "cell_type": "code",
   "execution_count": 13,
   "id": "0300997e-2676-47f9-8991-64b653496730",
   "metadata": {},
   "outputs": [],
   "source": [
    "from sklearn.model_selection import train_test_split\n",
    "X_train, X_test, y_train, y_test = train_test_split(X_scaled, y, stratify = y, random_state = 10)"
   ]
  },
  {
   "cell_type": "code",
   "execution_count": 14,
   "id": "c3d20988-9cdf-4138-a7c3-6b2c9be39aad",
   "metadata": {},
   "outputs": [
    {
     "data": {
      "text/plain": [
       "(3584, 8)"
      ]
     },
     "execution_count": 14,
     "metadata": {},
     "output_type": "execute_result"
    }
   ],
   "source": [
    "X_train.shape"
   ]
  },
  {
   "cell_type": "code",
   "execution_count": 15,
   "id": "795c689a-43c2-405c-9655-979969c4e210",
   "metadata": {},
   "outputs": [
    {
     "data": {
      "text/plain": [
       "(1195, 8)"
      ]
     },
     "execution_count": 15,
     "metadata": {},
     "output_type": "execute_result"
    }
   ],
   "source": [
    "X_test.shape"
   ]
  },
  {
   "cell_type": "code",
   "execution_count": 16,
   "id": "51b474e7-80b6-4840-bbc4-da0c46f2fc36",
   "metadata": {},
   "outputs": [
    {
     "data": {
      "text/plain": [
       "Results\n",
       "0    2053\n",
       "1    1531\n",
       "Name: count, dtype: int64"
      ]
     },
     "execution_count": 16,
     "metadata": {},
     "output_type": "execute_result"
    }
   ],
   "source": [
    "y_train.value_counts()"
   ]
  },
  {
   "cell_type": "code",
   "execution_count": 17,
   "id": "c0f4c71b-2fe7-4ff0-aa1e-b9cf60836464",
   "metadata": {},
   "outputs": [
    {
     "data": {
      "text/plain": [
       "Results\n",
       "0    684\n",
       "1    511\n",
       "Name: count, dtype: int64"
      ]
     },
     "execution_count": 17,
     "metadata": {},
     "output_type": "execute_result"
    }
   ],
   "source": [
    "y_test.value_counts()"
   ]
  },
  {
   "cell_type": "markdown",
   "id": "30b0d090-ba3b-463c-9183-060095ec6a5c",
   "metadata": {},
   "source": [
    "### Using Logistic Regression for before Balancing Dataset :"
   ]
  },
  {
   "cell_type": "code",
   "execution_count": 18,
   "id": "b5c1aaef-8344-4023-80ba-ae1dadb04d56",
   "metadata": {},
   "outputs": [
    {
     "name": "stdout",
     "output_type": "stream",
     "text": [
      "Before Implemantation Accuracy :\n",
      "              precision    recall  f1-score   support\n",
      "\n",
      "           0       0.74      0.81      0.78       684\n",
      "           1       0.71      0.63      0.67       511\n",
      "\n",
      "    accuracy                           0.73      1195\n",
      "   macro avg       0.73      0.72      0.72      1195\n",
      "weighted avg       0.73      0.73      0.73      1195\n",
      "\n"
     ]
    }
   ],
   "source": [
    "from sklearn.linear_model import LogisticRegression\n",
    "from sklearn.metrics import classification_report\n",
    "\n",
    "clf = LogisticRegression(max_iter=100, random_state=42)\n",
    "clf.fit(X_train, y_train)\n",
    "\n",
    "y_pred = clf.predict(X_test)\n",
    "print(\"Before Implemantation Accuracy :\")\n",
    "print(classification_report(y_test, y_pred))"
   ]
  },
  {
   "cell_type": "code",
   "execution_count": null,
   "id": "99d7b64e-fe4e-4ace-ba92-3d04fc363a2c",
   "metadata": {},
   "outputs": [],
   "source": []
  },
  {
   "cell_type": "markdown",
   "id": "997b3812-9a83-4ea0-b380-950462192cb5",
   "metadata": {},
   "source": [
    "## Balancing Techniques :"
   ]
  },
  {
   "cell_type": "markdown",
   "id": "9914d13c-1eb3-4762-b7fd-f2abd4d45c82",
   "metadata": {},
   "source": [
    "### 1. Random Oversampling - Duplicates Minority Samples."
   ]
  },
  {
   "cell_type": "code",
   "execution_count": 19,
   "id": "052248e6-a0b7-409b-a939-217636d291e2",
   "metadata": {},
   "outputs": [
    {
     "name": "stdout",
     "output_type": "stream",
     "text": [
      "Class distribution after oversampling:\n",
      "Results\n",
      "1    2737\n",
      "0    2737\n",
      "Name: count, dtype: int64\n"
     ]
    }
   ],
   "source": [
    "from imblearn.over_sampling import RandomOverSampler\n",
    "\n",
    "ros = RandomOverSampler(random_state=42)\n",
    "X_res, y_res = ros.fit_resample(X_scaled, y)\n",
    "\n",
    "print(\"Class distribution after oversampling:\")\n",
    "print(pd.Series(y_res).value_counts())\n"
   ]
  },
  {
   "cell_type": "markdown",
   "id": "47680956-a005-4a09-b175-e1cfe0e86830",
   "metadata": {},
   "source": [
    "### Logistic Regression For Random Oversampling :"
   ]
  },
  {
   "cell_type": "code",
   "execution_count": 20,
   "id": "e6ece908-8c57-4fc2-bc29-6b1c70a6f7dc",
   "metadata": {},
   "outputs": [
    {
     "name": "stdout",
     "output_type": "stream",
     "text": [
      "After Random Oversampling:\n",
      "              precision    recall  f1-score   support\n",
      "\n",
      "           0       0.78      0.77      0.77       684\n",
      "           1       0.70      0.70      0.70       511\n",
      "\n",
      "    accuracy                           0.74      1195\n",
      "   macro avg       0.74      0.74      0.74      1195\n",
      "weighted avg       0.74      0.74      0.74      1195\n",
      "\n"
     ]
    }
   ],
   "source": [
    "from sklearn.model_selection import train_test_split\n",
    "from sklearn.linear_model import LogisticRegression\n",
    "from sklearn.metrics import classification_report\n",
    "\n",
    "X_res, y_res = ros.fit_resample(X_train, y_train)\n",
    "clf = LogisticRegression(max_iter=100, random_state=10)\n",
    "clf.fit(X_res, y_res)\n",
    "\n",
    "y_pred = clf.predict(X_test)\n",
    "print(\"After Random Oversampling:\")\n",
    "print(classification_report(y_test, y_pred))"
   ]
  },
  {
   "cell_type": "code",
   "execution_count": 21,
   "id": "c34a4ff3-b673-467e-9b87-f0d34563da72",
   "metadata": {},
   "outputs": [
    {
     "data": {
      "text/plain": [
       "'from sklearn.model_selection import train_test_split\\nfrom sklearn.linear_model import LogisticRegression\\nfrom sklearn.metrics import classification_report\\n\\n# Split original data\\nX_train, X_test, y_train, y_test = train_test_split(X_scaled, y, stratify=y, test_size=0.3, random_state=42)\\n\\n# Train Logistic Regression\\nclf = LogisticRegression(max_iter=100, random_state=42)\\nclf.fit(X_train, y_train)\\n\\ny_pred = clf.predict(X_test)\\nprint(\"Original Data:\")\\nprint(classification_report(y_test, y_pred))'"
      ]
     },
     "execution_count": 21,
     "metadata": {},
     "output_type": "execute_result"
    }
   ],
   "source": [
    "##################### Another Method ##############################\n",
    "'''from sklearn.model_selection import train_test_split\n",
    "from sklearn.linear_model import LogisticRegression\n",
    "from sklearn.metrics import classification_report\n",
    "\n",
    "# Split original data\n",
    "X_train, X_test, y_train, y_test = train_test_split(X_scaled, y, stratify=y, test_size=0.3, random_state=42)\n",
    "\n",
    "# Train Logistic Regression\n",
    "clf = LogisticRegression(max_iter=100, random_state=42)\n",
    "clf.fit(X_train, y_train)\n",
    "\n",
    "y_pred = clf.predict(X_test)\n",
    "print(\"Original Data:\")\n",
    "print(classification_report(y_test, y_pred))'''"
   ]
  },
  {
   "cell_type": "markdown",
   "id": "b494b5e5-720d-4a6f-802e-03fb0369a75b",
   "metadata": {},
   "source": [
    "### 2. Random Undersampling - Removes Majority Samples."
   ]
  },
  {
   "cell_type": "code",
   "execution_count": 22,
   "id": "6461fde5-6e34-4507-af40-59e4e39e292e",
   "metadata": {},
   "outputs": [
    {
     "name": "stdout",
     "output_type": "stream",
     "text": [
      "Class distribution after undersampling:\n",
      "Results\n",
      "0    2042\n",
      "1    2042\n",
      "Name: count, dtype: int64\n"
     ]
    }
   ],
   "source": [
    "from imblearn.under_sampling import RandomUnderSampler\n",
    "\n",
    "rus = RandomUnderSampler(random_state=10)\n",
    "X_res, y_res = rus.fit_resample(X_scaled, y)\n",
    "\n",
    "print(\"Class distribution after undersampling:\")\n",
    "print(pd.Series(y_res).value_counts())"
   ]
  },
  {
   "cell_type": "markdown",
   "id": "75dc58cd-44a9-49f4-9b64-768f4ca9cc2f",
   "metadata": {},
   "source": [
    "### Logistic Regression For Random Undersampling :"
   ]
  },
  {
   "cell_type": "code",
   "execution_count": 23,
   "id": "f18b231e-0200-4096-a648-b82b416c808b",
   "metadata": {},
   "outputs": [
    {
     "name": "stdout",
     "output_type": "stream",
     "text": [
      "After Random Undersampling:\n",
      "              precision    recall  f1-score   support\n",
      "\n",
      "           0       0.78      0.77      0.77       684\n",
      "           1       0.70      0.71      0.70       511\n",
      "\n",
      "    accuracy                           0.74      1195\n",
      "   macro avg       0.74      0.74      0.74      1195\n",
      "weighted avg       0.74      0.74      0.74      1195\n",
      "\n"
     ]
    }
   ],
   "source": [
    "X_res, y_res = rus.fit_resample(X_train, y_train)\n",
    "clf = LogisticRegression(max_iter=100, random_state=10)\n",
    "clf.fit(X_res, y_res)\n",
    "\n",
    "y_pred = clf.predict(X_test)\n",
    "print(\"After Random Undersampling:\")\n",
    "print(classification_report(y_test, y_pred))"
   ]
  },
  {
   "cell_type": "markdown",
   "id": "728f00b9-8a1c-4ac2-91d7-79bbc98baac4",
   "metadata": {},
   "source": [
    "### 3. SMOTE (Synthetic Minority Oversampling) - Generates Synthetic Minority Samples."
   ]
  },
  {
   "cell_type": "code",
   "execution_count": 24,
   "id": "26f73714-9529-466f-b9ca-65627d30e507",
   "metadata": {},
   "outputs": [
    {
     "name": "stdout",
     "output_type": "stream",
     "text": [
      "Class distribution after SMOTE:\n",
      "Results\n",
      "1    2737\n",
      "0    2737\n",
      "Name: count, dtype: int64\n"
     ]
    }
   ],
   "source": [
    "from imblearn.over_sampling import SMOTE\n",
    "\n",
    "smote = SMOTE(random_state=10)\n",
    "X_res, y_res = smote.fit_resample(X_scaled, y)\n",
    "\n",
    "print(\"Class distribution after SMOTE:\")\n",
    "print(pd.Series(y_res).value_counts())"
   ]
  },
  {
   "cell_type": "markdown",
   "id": "6a703cc4-4486-47ba-8e2a-0efe69a1d433",
   "metadata": {},
   "source": [
    "###  Logistic Regression For SMOTE :"
   ]
  },
  {
   "cell_type": "code",
   "execution_count": 25,
   "id": "98c348d8-b96d-4096-afe4-553616da5e0e",
   "metadata": {},
   "outputs": [
    {
     "name": "stdout",
     "output_type": "stream",
     "text": [
      "After Random Undersampling:\n",
      "              precision    recall  f1-score   support\n",
      "\n",
      "           0       0.78      0.77      0.78       684\n",
      "           1       0.70      0.71      0.71       511\n",
      "\n",
      "    accuracy                           0.75      1195\n",
      "   macro avg       0.74      0.74      0.74      1195\n",
      "weighted avg       0.75      0.75      0.75      1195\n",
      "\n"
     ]
    }
   ],
   "source": [
    "X_res, y_res = smote.fit_resample(X_train, y_train)\n",
    "clf = LogisticRegression(max_iter=100, random_state=10)\n",
    "clf.fit(X_res, y_res)\n",
    "\n",
    "y_pred = clf.predict(X_test)\n",
    "print(\"After Random Undersampling:\")\n",
    "print(classification_report(y_test, y_pred))"
   ]
  },
  {
   "cell_type": "markdown",
   "id": "2f02a9e0-f923-4d1e-abbf-cb2bffe8ab34",
   "metadata": {},
   "source": [
    "### 4. SMOTE + Tomek Links (Cleaning) - Oversample + Clean Noisy Points."
   ]
  },
  {
   "cell_type": "code",
   "execution_count": 26,
   "id": "9a0844ea-0669-4b42-9762-f9cc7868dd45",
   "metadata": {},
   "outputs": [
    {
     "name": "stdout",
     "output_type": "stream",
     "text": [
      "Class distribution after SMOTE + Tomek Links:\n",
      "Results\n",
      "1    2559\n",
      "0    2559\n",
      "Name: count, dtype: int64\n"
     ]
    }
   ],
   "source": [
    "from imblearn.combine import SMOTETomek\n",
    "\n",
    "smt = SMOTETomek(random_state=42)\n",
    "X_res, y_res = smt.fit_resample(X_scaled, y)\n",
    "\n",
    "print(\"Class distribution after SMOTE + Tomek Links:\")\n",
    "print(pd.Series(y_res).value_counts())"
   ]
  },
  {
   "cell_type": "markdown",
   "id": "d16caf53-2c2d-4b17-878b-9c71b5dd72ab",
   "metadata": {},
   "source": [
    "### LogisticRegression For SMOTE + Tomek Links :"
   ]
  },
  {
   "cell_type": "code",
   "execution_count": 27,
   "id": "b7fd72c0-cce5-4938-9d81-86c38d714f41",
   "metadata": {},
   "outputs": [
    {
     "name": "stdout",
     "output_type": "stream",
     "text": [
      "After SMOTE:\n",
      "              precision    recall  f1-score   support\n",
      "\n",
      "           0       0.78      0.77      0.77       684\n",
      "           1       0.70      0.70      0.70       511\n",
      "\n",
      "    accuracy                           0.74      1195\n",
      "   macro avg       0.74      0.74      0.74      1195\n",
      "weighted avg       0.74      0.74      0.74      1195\n",
      "\n"
     ]
    }
   ],
   "source": [
    "clf = LogisticRegression(max_iter=100, random_state=42)\n",
    "clf.fit(X_res, y_res)\n",
    "\n",
    "y_pred = clf.predict(X_test)\n",
    "print(\"After SMOTE:\")\n",
    "print(classification_report(y_test, y_pred))"
   ]
  },
  {
   "cell_type": "markdown",
   "id": "e03f6248-db97-4051-b177-12c9a6a5e01c",
   "metadata": {},
   "source": [
    "## Applied Bagging For Highest Accuracy Given Balancing Techniques :"
   ]
  },
  {
   "cell_type": "markdown",
   "id": "3a6ca90f-a877-44b4-acee-18f74e5961f6",
   "metadata": {},
   "source": [
    "### 2. Random Undersampling - Removes Majority Samples."
   ]
  },
  {
   "cell_type": "code",
   "execution_count": 28,
   "id": "06b55b87-aa5a-4762-9549-d3bb2bccadd2",
   "metadata": {},
   "outputs": [
    {
     "name": "stdout",
     "output_type": "stream",
     "text": [
      "Class distribution after undersampling:\n",
      "Results\n",
      "0    2042\n",
      "1    2042\n",
      "Name: count, dtype: int64\n"
     ]
    }
   ],
   "source": [
    "from imblearn.under_sampling import RandomUnderSampler\n",
    "\n",
    "rus = RandomUnderSampler(random_state=42)\n",
    "X_res, y_res = rus.fit_resample(X_scaled, y)\n",
    "\n",
    "print(\"Class distribution after undersampling:\")\n",
    "print(pd.Series(y_res).value_counts())"
   ]
  },
  {
   "cell_type": "markdown",
   "id": "721784fa-ba27-4164-8582-2c603cd73e49",
   "metadata": {},
   "source": [
    "### Logistic Regression For Random Undersampling :"
   ]
  },
  {
   "cell_type": "code",
   "execution_count": 29,
   "id": "175ff423-be5e-4aa6-acce-f32560f8625d",
   "metadata": {},
   "outputs": [
    {
     "name": "stdout",
     "output_type": "stream",
     "text": [
      "After Random Undersampling:\n",
      "              precision    recall  f1-score   support\n",
      "\n",
      "           0       0.78      0.77      0.78       684\n",
      "           1       0.70      0.71      0.71       511\n",
      "\n",
      "    accuracy                           0.75      1195\n",
      "   macro avg       0.74      0.74      0.74      1195\n",
      "weighted avg       0.75      0.75      0.75      1195\n",
      "\n"
     ]
    }
   ],
   "source": [
    "X_res, y_res = smote.fit_resample(X_train, y_train)\n",
    "clf = LogisticRegression(max_iter=100, random_state=42)\n",
    "clf.fit(X_res, y_res)\n",
    "\n",
    "y_pred = clf.predict(X_test)\n",
    "print(\"After Random Undersampling:\")\n",
    "print(classification_report(y_test, y_pred))"
   ]
  },
  {
   "cell_type": "markdown",
   "id": "818fbfef-0edd-4fc5-b12b-9d4b43713c07",
   "metadata": {},
   "source": [
    "## Bagging Implementation :"
   ]
  },
  {
   "cell_type": "code",
   "execution_count": 30,
   "id": "8fc80b93-d42e-4f36-baba-5bae83c8eca8",
   "metadata": {},
   "outputs": [
    {
     "data": {
      "text/plain": [
       "array([0.97080292, 0.97198538, 0.96589525, 0.96467722, 0.97929354])"
      ]
     },
     "execution_count": 30,
     "metadata": {},
     "output_type": "execute_result"
    }
   ],
   "source": [
    "from sklearn.model_selection import cross_val_score\n",
    "from sklearn.tree import DecisionTreeClassifier\n",
    "\n",
    "scores = cross_val_score(DecisionTreeClassifier(), X_res, y_res, cv=5)\n",
    "scores"
   ]
  },
  {
   "cell_type": "code",
   "execution_count": 31,
   "id": "7073ef49-ddf6-433f-83e0-ddfaf5bd3e9e",
   "metadata": {},
   "outputs": [
    {
     "data": {
      "text/plain": [
       "np.float64(0.9705308640877691)"
      ]
     },
     "execution_count": 31,
     "metadata": {},
     "output_type": "execute_result"
    }
   ],
   "source": [
    "scores.mean()"
   ]
  },
  {
   "cell_type": "markdown",
   "id": "8497eacf-9131-45be-80e3-3adf82b69e7a",
   "metadata": {},
   "source": [
    "### Using Decision Tree :"
   ]
  },
  {
   "cell_type": "code",
   "execution_count": 32,
   "id": "d0af5aa0-e1d2-43ee-b02b-6a2153b18a42",
   "metadata": {},
   "outputs": [
    {
     "data": {
      "text/plain": [
       "0.9821428571428571"
      ]
     },
     "execution_count": 32,
     "metadata": {},
     "output_type": "execute_result"
    }
   ],
   "source": [
    "from sklearn.ensemble import BaggingClassifier\n",
    "bag_model = BaggingClassifier(\n",
    "    estimator = DecisionTreeClassifier(),\n",
    "    n_estimators=100,\n",
    "    max_samples=0.8,\n",
    "    oob_score=True,\n",
    "    random_state=6)\n",
    "bag_model.fit(X_train, y_train)\n",
    "bag_model.oob_score_"
   ]
  },
  {
   "cell_type": "code",
   "execution_count": 33,
   "id": "8d1cbda0-6b57-4c08-b731-0308b420923a",
   "metadata": {},
   "outputs": [
    {
     "data": {
      "text/plain": [
       "0.9857740585774059"
      ]
     },
     "execution_count": 33,
     "metadata": {},
     "output_type": "execute_result"
    }
   ],
   "source": [
    "bag_model.score(X_test, y_test)"
   ]
  },
  {
   "cell_type": "code",
   "execution_count": 34,
   "id": "bb4104bb-227d-4567-a8a1-a22a5819ae0d",
   "metadata": {},
   "outputs": [
    {
     "data": {
      "text/plain": [
       "array([0.98175182, 0.97685749, 0.98416565, 0.97929354, 0.98538368])"
      ]
     },
     "execution_count": 34,
     "metadata": {},
     "output_type": "execute_result"
    }
   ],
   "source": [
    "bag_model = BaggingClassifier(\n",
    "    estimator=DecisionTreeClassifier(),\n",
    "    n_estimators=100,\n",
    "    max_samples=0.8,\n",
    "    oob_score=True,\n",
    "    random_state=0\n",
    ")\n",
    "scores = cross_val_score(bag_model, X_res, y_res, cv=5)\n",
    "scores"
   ]
  },
  {
   "cell_type": "code",
   "execution_count": 35,
   "id": "0f8a831f-8eb5-4aa5-b7c8-a63af79f1a42",
   "metadata": {},
   "outputs": [
    {
     "data": {
      "text/plain": [
       "np.float64(0.9814904380451115)"
      ]
     },
     "execution_count": 35,
     "metadata": {},
     "output_type": "execute_result"
    }
   ],
   "source": [
    "scores.mean()"
   ]
  },
  {
   "cell_type": "markdown",
   "id": "ecc10af7-914b-4466-8893-609549b73091",
   "metadata": {},
   "source": [
    "### Using Random Forest :"
   ]
  },
  {
   "cell_type": "code",
   "execution_count": 36,
   "id": "5bd7b34a-057b-4d12-8d23-64429b92ff3e",
   "metadata": {},
   "outputs": [
    {
     "data": {
      "text/plain": [
       "np.float64(0.9434971890549475)"
      ]
     },
     "execution_count": 36,
     "metadata": {},
     "output_type": "execute_result"
    }
   ],
   "source": [
    "from sklearn.ensemble import RandomForestClassifier\n",
    "\n",
    "scores = cross_val_score(RandomForestClassifier(n_estimators=50), X_res, y_res,cv=5)\n",
    "scores.mean()"
   ]
  },
  {
   "cell_type": "markdown",
   "id": "7b650877-d578-47cb-9c66-24d565b9603b",
   "metadata": {},
   "source": [
    "## K Fold - Cross Validation Using For \"Logistic Regression\",\"SVM\",\"Decision Tree\" and \"Random Forest\":\n"
   ]
  },
  {
   "cell_type": "code",
   "execution_count": 37,
   "id": "4927f0f3-b580-4eb0-929a-f816a9ccdc3b",
   "metadata": {},
   "outputs": [],
   "source": [
    "from sklearn.model_selection import KFold, cross_val_score\n",
    "from sklearn.linear_model import LogisticRegression\n",
    "from sklearn.svm import SVC\n",
    "from sklearn.tree import DecisionTreeClassifier\n",
    "from sklearn.ensemble import RandomForestClassifier"
   ]
  },
  {
   "cell_type": "code",
   "execution_count": 38,
   "id": "e5ea176b-225b-4e15-a8f5-d576604aa1a3",
   "metadata": {},
   "outputs": [
    {
     "name": "stdout",
     "output_type": "stream",
     "text": [
      "🔹 Model: Logistic Regression\n",
      "   Fold Accuracies: [0.73722628 0.74421437 0.71863581 0.74786845 0.72350792]\n",
      "   Average Accuracy: 0.7343\n",
      "**************************************************\n",
      "🔹 Model: SVM (Linear Kernel)\n",
      "   Fold Accuracies: [0.743309   0.74786845 0.72350792 0.75152253 0.727162  ]\n",
      "   Average Accuracy: 0.7387\n",
      "**************************************************\n",
      "🔹 Model: Decision Tree\n",
      "   Fold Accuracies: [0.9756691  0.96224117 0.95858709 0.97929354 0.98294762]\n",
      "   Average Accuracy: 0.9717\n",
      "**************************************************\n",
      "🔹 Model: Random Forest\n",
      "   Fold Accuracies: [0.95377129 0.95615104 0.94031669 0.95615104 0.95858709]\n",
      "   Average Accuracy: 0.9530\n",
      "**************************************************\n"
     ]
    }
   ],
   "source": [
    "scaler = StandardScaler()\n",
    "X_scaled = scaler.fit_transform(X)\n",
    "\n",
    "kf = KFold(n_splits=5, shuffle=True, random_state=42)\n",
    "\n",
    "models = {\n",
    "    \"Logistic Regression\": LogisticRegression(max_iter=200),\n",
    "    \"SVM (Linear Kernel)\": SVC(kernel='linear'),\n",
    "    \"Decision Tree\": DecisionTreeClassifier(random_state=42),\n",
    "    \"Random Forest\": RandomForestClassifier(n_estimators=100, random_state=42)\n",
    "}\n",
    "for model_name, model in models.items():\n",
    "    scores = cross_val_score(model, X_res, y_res, cv=kf)\n",
    "    print(f\"🔹 Model: {model_name}\")\n",
    "    print(f\"   Fold Accuracies: {scores}\")\n",
    "    print(f\"   Average Accuracy: {np.mean(scores):.4f}\")\n",
    "    print(\"*\" * 50)"
   ]
  },
  {
   "cell_type": "raw",
   "id": "2faf1cf3-3b54-4559-b297-715fece925c9",
   "metadata": {},
   "source": [
    "🔹The Decision Tree model proved to be the strongest classifier with an average accuracy of 0.9717.\n",
    "🔹followed closely by the Random Forest model at 0.9530. \n",
    "🔹while both the SVM (Linear Kernel) model (0.7387). \n",
    "🔹the Logistic Regression model (0.7343) performed significantly worse, indicating that non-linear models are much better suited for this dataset."
   ]
  },
  {
   "cell_type": "raw",
   "id": "bb16918a-f31c-4149-8b39-98ea5944a070",
   "metadata": {},
   "source": [
    "       Model\t        Average Accuracy   \t         Remarks\n",
    "🔹Logistic Regression\t     0.7343\t         Moderate performance\n",
    "🔹SVM (Linear Kernel)\t     0.7387\t         Slight improvement over Logistic Regression\n",
    "🔹Decision Tree     \t     0.9717\t         ⭐ Highest accuracy, excellent performance\n",
    "🔹Random Forest\t             0.9530\t         Very strong and stable results"
   ]
  },
  {
   "cell_type": "markdown",
   "id": "b91aa4db-d95a-41d1-853a-10a65fbed8d7",
   "metadata": {},
   "source": [
    "## Using Boosting Method - XGBoost :"
   ]
  },
  {
   "cell_type": "code",
   "execution_count": 39,
   "id": "05d2708c-6f23-4711-862f-ced26985bbee",
   "metadata": {},
   "outputs": [
    {
     "name": "stderr",
     "output_type": "stream",
     "text": [
      "e:\\Users\\jagha\\anaconda3\\Lib\\site-packages\\xgboost\\training.py:183: UserWarning: [11:23:11] WARNING: C:\\actions-runner\\_work\\xgboost\\xgboost\\src\\learner.cc:738: \n",
      "Parameters: { \"use_label_encoder\" } are not used.\n",
      "\n",
      "  bst.update(dtrain, iteration=i, fobj=obj)\n",
      "e:\\Users\\jagha\\anaconda3\\Lib\\site-packages\\xgboost\\training.py:183: UserWarning: [11:23:11] WARNING: C:\\actions-runner\\_work\\xgboost\\xgboost\\src\\learner.cc:738: \n",
      "Parameters: { \"use_label_encoder\" } are not used.\n",
      "\n",
      "  bst.update(dtrain, iteration=i, fobj=obj)\n",
      "e:\\Users\\jagha\\anaconda3\\Lib\\site-packages\\xgboost\\training.py:183: UserWarning: [11:23:11] WARNING: C:\\actions-runner\\_work\\xgboost\\xgboost\\src\\learner.cc:738: \n",
      "Parameters: { \"use_label_encoder\" } are not used.\n",
      "\n",
      "  bst.update(dtrain, iteration=i, fobj=obj)\n",
      "e:\\Users\\jagha\\anaconda3\\Lib\\site-packages\\xgboost\\training.py:183: UserWarning: [11:23:12] WARNING: C:\\actions-runner\\_work\\xgboost\\xgboost\\src\\learner.cc:738: \n",
      "Parameters: { \"use_label_encoder\" } are not used.\n",
      "\n",
      "  bst.update(dtrain, iteration=i, fobj=obj)\n",
      "e:\\Users\\jagha\\anaconda3\\Lib\\site-packages\\xgboost\\training.py:183: UserWarning: [11:23:12] WARNING: C:\\actions-runner\\_work\\xgboost\\xgboost\\src\\learner.cc:738: \n",
      "Parameters: { \"use_label_encoder\" } are not used.\n",
      "\n",
      "  bst.update(dtrain, iteration=i, fobj=obj)\n"
     ]
    },
    {
     "name": "stdout",
     "output_type": "stream",
     "text": [
      "🔹 Model: XGBoost\n",
      "🔹 Fold Accuracies: [0.98053528 0.98294762 0.97929354 0.98051157 0.98660171]\n",
      "🔹 Average Accuracy: 0.9820\n",
      "**************************************************\n"
     ]
    }
   ],
   "source": [
    "from xgboost import XGBClassifier\n",
    "from sklearn.model_selection import  cross_val_score\n",
    "Models = {\"XGBoost\" : XGBClassifier(use_label_encoder=False, eval_metric='mlogloss', random_state=42)}\n",
    "for model_name, model in Models.items():\n",
    "    scores = cross_val_score(model, X_res, y_res, cv=kf) \n",
    "    print(f\"🔹 Model: {model_name}\")\n",
    "    print(f\"🔹 Fold Accuracies: {scores}\")\n",
    "    print(f\"🔹 Average Accuracy: {np.mean(scores):.4f}\")\n",
    "    print(\"*\" * 50)"
   ]
  },
  {
   "cell_type": "raw",
   "id": "21de9ee9-df7c-4fab-88a5-be6d03713620",
   "metadata": {},
   "source": [
    "🔹The XGBoost model achieved an outstanding average cross-validation accuracy of 98.20%.\n",
    "\n",
    "🔹This suggests it is a highly effective model for your classification problem, significantly outperforming all previous models (SVM at 80.70%, Random Forest at 77.55%, and Logistic Regression at 70.97%)."
   ]
  },
  {
   "cell_type": "markdown",
   "id": "e36f5b23-e751-4baa-b67d-045f37b2b1b2",
   "metadata": {},
   "source": [
    "## Hyperparameter Tuning"
   ]
  },
  {
   "cell_type": "code",
   "execution_count": 40,
   "id": "e5704bc5-ed37-48ec-b114-1f4b2e6ffb5c",
   "metadata": {},
   "outputs": [
    {
     "name": "stdout",
     "output_type": "stream",
     "text": [
      "🔹 Best Parameters: {'kernel': 'rbf', 'C': 1}\n",
      "🔹 Best Accuracy: 0.8141708971611974\n"
     ]
    },
    {
     "data": {
      "text/html": [
       "<div>\n",
       "<style scoped>\n",
       "    .dataframe tbody tr th:only-of-type {\n",
       "        vertical-align: middle;\n",
       "    }\n",
       "\n",
       "    .dataframe tbody tr th {\n",
       "        vertical-align: top;\n",
       "    }\n",
       "\n",
       "    .dataframe thead th {\n",
       "        text-align: right;\n",
       "    }\n",
       "</style>\n",
       "<table border=\"1\" class=\"dataframe\">\n",
       "  <thead>\n",
       "    <tr style=\"text-align: right;\">\n",
       "      <th></th>\n",
       "      <th>param_C</th>\n",
       "      <th>param_kernel</th>\n",
       "      <th>mean_test_score</th>\n",
       "    </tr>\n",
       "  </thead>\n",
       "  <tbody>\n",
       "    <tr>\n",
       "      <th>0</th>\n",
       "      <td>1</td>\n",
       "      <td>rbf</td>\n",
       "      <td>0.814171</td>\n",
       "    </tr>\n",
       "    <tr>\n",
       "      <th>1</th>\n",
       "      <td>1</td>\n",
       "      <td>linear</td>\n",
       "      <td>0.738918</td>\n",
       "    </tr>\n",
       "  </tbody>\n",
       "</table>\n",
       "</div>"
      ],
      "text/plain": [
       "   param_C param_kernel  mean_test_score\n",
       "0        1          rbf         0.814171\n",
       "1        1       linear         0.738918"
      ]
     },
     "metadata": {},
     "output_type": "display_data"
    }
   ],
   "source": [
    "from sklearn import svm\n",
    "from sklearn.model_selection import RandomizedSearchCV\n",
    "import pandas as pd\n",
    "\n",
    "# Define parameter space\n",
    "param_dist = {\n",
    "    'C': [1, 10, 20],\n",
    "    'kernel': ['rbf', 'linear']\n",
    "}\n",
    "\n",
    "# Create RandomizedSearchCV object\n",
    "rs = RandomizedSearchCV(\n",
    "    estimator=svm.SVC(gamma='auto'),\n",
    "    param_distributions=param_dist,\n",
    "    cv=5,\n",
    "    n_iter=2,\n",
    "    return_train_score=False,\n",
    "    random_state=42\n",
    ")\n",
    "\n",
    "# Fit to your dataset\n",
    "rs.fit(X_res, y_res)  \n",
    "\n",
    "results_df = pd.DataFrame(rs.cv_results_)[['param_C', 'param_kernel', 'mean_test_score']].sort_values(by='mean_test_score', ascending=False)\n",
    "\n",
    "# Show results\n",
    "print(\"🔹 Best Parameters:\", rs.best_params_)\n",
    "print(\"🔹 Best Accuracy:\", rs.best_score_)\n",
    "display(results_df)\n"
   ]
  },
  {
   "cell_type": "raw",
   "id": "01cbb6b0-8791-45b1-ab10-e84954b7513b",
   "metadata": {},
   "source": [
    " 🔹The RBF kernel with a regularization parameter C=1 performed significantly better, achieving an accuracy of 81.42%, compared to the linear kernel, which achieved 73.89%.     \n",
    " 🔹This indicates that the relationship between your features and the target variable is likely non-linear, which the RBF kernel is better suited to model."
   ]
  },
  {
   "cell_type": "markdown",
   "id": "7edd4e49-2a7d-4bbc-9fdc-612e959274c1",
   "metadata": {},
   "source": [
    "## Using SVM, Random Forest, Logistic Regression For Hyperparameter Tuning"
   ]
  },
  {
   "cell_type": "code",
   "execution_count": 41,
   "id": "de127044-4c1a-4434-981f-cf010fc4a31c",
   "metadata": {},
   "outputs": [],
   "source": [
    "from sklearn import svm\n",
    "from sklearn.ensemble import RandomForestClassifier\n",
    "from sklearn.linear_model import LogisticRegression\n",
    "\n",
    "model_params = {\n",
    "    'svm': {\n",
    "        'model': svm.SVC(gamma='auto'),\n",
    "        'params' : {\n",
    "            'C': [1,10,20],\n",
    "            'kernel': ['rbf','linear']\n",
    "        }\n",
    "    },\n",
    "    'random_forest': {\n",
    "        'model': RandomForestClassifier(),\n",
    "        'params' : {\n",
    "            'n_estimators': [1,5,10]\n",
    "        }\n",
    "    },\n",
    "    'logistic_regression' : {\n",
    "        'model': LogisticRegression(solver='liblinear',multi_class='auto'),\n",
    "        'params': {\n",
    "            'C': [1,5,10]\n",
    "        }\n",
    "    }\n",
    "}"
   ]
  },
  {
   "cell_type": "code",
   "execution_count": 42,
   "id": "899921e5-eef1-44e7-8396-c897855daca7",
   "metadata": {
    "scrolled": true
   },
   "outputs": [
    {
     "name": "stderr",
     "output_type": "stream",
     "text": [
      "e:\\Users\\jagha\\anaconda3\\Lib\\site-packages\\sklearn\\linear_model\\_logistic.py:1247: FutureWarning: 'multi_class' was deprecated in version 1.5 and will be removed in 1.7. From then on, it will always use 'multinomial'. Leave it to its default value to avoid this warning.\n",
      "  warnings.warn(\n",
      "e:\\Users\\jagha\\anaconda3\\Lib\\site-packages\\sklearn\\linear_model\\_logistic.py:1247: FutureWarning: 'multi_class' was deprecated in version 1.5 and will be removed in 1.7. From then on, it will always use 'multinomial'. Leave it to its default value to avoid this warning.\n",
      "  warnings.warn(\n",
      "e:\\Users\\jagha\\anaconda3\\Lib\\site-packages\\sklearn\\linear_model\\_logistic.py:1247: FutureWarning: 'multi_class' was deprecated in version 1.5 and will be removed in 1.7. From then on, it will always use 'multinomial'. Leave it to its default value to avoid this warning.\n",
      "  warnings.warn(\n",
      "e:\\Users\\jagha\\anaconda3\\Lib\\site-packages\\sklearn\\linear_model\\_logistic.py:1247: FutureWarning: 'multi_class' was deprecated in version 1.5 and will be removed in 1.7. From then on, it will always use 'multinomial'. Leave it to its default value to avoid this warning.\n",
      "  warnings.warn(\n",
      "e:\\Users\\jagha\\anaconda3\\Lib\\site-packages\\sklearn\\linear_model\\_logistic.py:1247: FutureWarning: 'multi_class' was deprecated in version 1.5 and will be removed in 1.7. From then on, it will always use 'multinomial'. Leave it to its default value to avoid this warning.\n",
      "  warnings.warn(\n",
      "e:\\Users\\jagha\\anaconda3\\Lib\\site-packages\\sklearn\\linear_model\\_logistic.py:1247: FutureWarning: 'multi_class' was deprecated in version 1.5 and will be removed in 1.7. From then on, it will always use 'multinomial'. Leave it to its default value to avoid this warning.\n",
      "  warnings.warn(\n",
      "e:\\Users\\jagha\\anaconda3\\Lib\\site-packages\\sklearn\\linear_model\\_logistic.py:1247: FutureWarning: 'multi_class' was deprecated in version 1.5 and will be removed in 1.7. From then on, it will always use 'multinomial'. Leave it to its default value to avoid this warning.\n",
      "  warnings.warn(\n",
      "e:\\Users\\jagha\\anaconda3\\Lib\\site-packages\\sklearn\\linear_model\\_logistic.py:1247: FutureWarning: 'multi_class' was deprecated in version 1.5 and will be removed in 1.7. From then on, it will always use 'multinomial'. Leave it to its default value to avoid this warning.\n",
      "  warnings.warn(\n",
      "e:\\Users\\jagha\\anaconda3\\Lib\\site-packages\\sklearn\\linear_model\\_logistic.py:1247: FutureWarning: 'multi_class' was deprecated in version 1.5 and will be removed in 1.7. From then on, it will always use 'multinomial'. Leave it to its default value to avoid this warning.\n",
      "  warnings.warn(\n",
      "e:\\Users\\jagha\\anaconda3\\Lib\\site-packages\\sklearn\\linear_model\\_logistic.py:1247: FutureWarning: 'multi_class' was deprecated in version 1.5 and will be removed in 1.7. From then on, it will always use 'multinomial'. Leave it to its default value to avoid this warning.\n",
      "  warnings.warn(\n",
      "e:\\Users\\jagha\\anaconda3\\Lib\\site-packages\\sklearn\\linear_model\\_logistic.py:1247: FutureWarning: 'multi_class' was deprecated in version 1.5 and will be removed in 1.7. From then on, it will always use 'multinomial'. Leave it to its default value to avoid this warning.\n",
      "  warnings.warn(\n",
      "e:\\Users\\jagha\\anaconda3\\Lib\\site-packages\\sklearn\\linear_model\\_logistic.py:1247: FutureWarning: 'multi_class' was deprecated in version 1.5 and will be removed in 1.7. From then on, it will always use 'multinomial'. Leave it to its default value to avoid this warning.\n",
      "  warnings.warn(\n",
      "e:\\Users\\jagha\\anaconda3\\Lib\\site-packages\\sklearn\\linear_model\\_logistic.py:1247: FutureWarning: 'multi_class' was deprecated in version 1.5 and will be removed in 1.7. From then on, it will always use 'multinomial'. Leave it to its default value to avoid this warning.\n",
      "  warnings.warn(\n",
      "e:\\Users\\jagha\\anaconda3\\Lib\\site-packages\\sklearn\\linear_model\\_logistic.py:1247: FutureWarning: 'multi_class' was deprecated in version 1.5 and will be removed in 1.7. From then on, it will always use 'multinomial'. Leave it to its default value to avoid this warning.\n",
      "  warnings.warn(\n",
      "e:\\Users\\jagha\\anaconda3\\Lib\\site-packages\\sklearn\\linear_model\\_logistic.py:1247: FutureWarning: 'multi_class' was deprecated in version 1.5 and will be removed in 1.7. From then on, it will always use 'multinomial'. Leave it to its default value to avoid this warning.\n",
      "  warnings.warn(\n",
      "e:\\Users\\jagha\\anaconda3\\Lib\\site-packages\\sklearn\\linear_model\\_logistic.py:1247: FutureWarning: 'multi_class' was deprecated in version 1.5 and will be removed in 1.7. From then on, it will always use 'multinomial'. Leave it to its default value to avoid this warning.\n",
      "  warnings.warn(\n"
     ]
    },
    {
     "data": {
      "text/html": [
       "<div>\n",
       "<style scoped>\n",
       "    .dataframe tbody tr th:only-of-type {\n",
       "        vertical-align: middle;\n",
       "    }\n",
       "\n",
       "    .dataframe tbody tr th {\n",
       "        vertical-align: top;\n",
       "    }\n",
       "\n",
       "    .dataframe thead th {\n",
       "        text-align: right;\n",
       "    }\n",
       "</style>\n",
       "<table border=\"1\" class=\"dataframe\">\n",
       "  <thead>\n",
       "    <tr style=\"text-align: right;\">\n",
       "      <th></th>\n",
       "      <th>model</th>\n",
       "      <th>best_score</th>\n",
       "      <th>best_params</th>\n",
       "    </tr>\n",
       "  </thead>\n",
       "  <tbody>\n",
       "    <tr>\n",
       "      <th>0</th>\n",
       "      <td>svm</td>\n",
       "      <td>0.870677</td>\n",
       "      <td>{'C': 20, 'kernel': 'rbf'}</td>\n",
       "    </tr>\n",
       "    <tr>\n",
       "      <th>1</th>\n",
       "      <td>random_forest</td>\n",
       "      <td>0.923285</td>\n",
       "      <td>{'n_estimators': 10}</td>\n",
       "    </tr>\n",
       "    <tr>\n",
       "      <th>2</th>\n",
       "      <td>logistic_regression</td>\n",
       "      <td>0.735265</td>\n",
       "      <td>{'C': 10}</td>\n",
       "    </tr>\n",
       "  </tbody>\n",
       "</table>\n",
       "</div>"
      ],
      "text/plain": [
       "                 model  best_score                 best_params\n",
       "0                  svm    0.870677  {'C': 20, 'kernel': 'rbf'}\n",
       "1        random_forest    0.923285        {'n_estimators': 10}\n",
       "2  logistic_regression    0.735265                   {'C': 10}"
      ]
     },
     "execution_count": 42,
     "metadata": {},
     "output_type": "execute_result"
    }
   ],
   "source": [
    "scores = []\n",
    "from sklearn.model_selection import GridSearchCV\n",
    "for model_name, mp in model_params.items():\n",
    "    clf =  GridSearchCV(mp['model'], mp['params'], cv=5, return_train_score=False)\n",
    "    clf.fit(X_res, y_res)\n",
    "    scores.append({\n",
    "        'model': model_name,\n",
    "        'best_score': clf.best_score_,\n",
    "        'best_params': clf.best_params_\n",
    "    })\n",
    "\n",
    "mov = pd.DataFrame(scores,columns=['model','best_score','best_params'])\n",
    "mov"
   ]
  },
  {
   "cell_type": "markdown",
   "id": "31fe7df6-e8c8-4516-a64b-5e308a4ab95c",
   "metadata": {},
   "source": [
    "🔹Models Compared: SVM, Random Forest, Logistic Regression\n",
    "\n",
    "🔹Best Model: 🏆 Random Forest\n",
    "\n",
    "🔹Accuracy Scores:\n",
    "\n",
    "🔹Random Forest → 0.9296 (n_estimators = 10)\n",
    "\n",
    "🔹SVM → 0.8707 (C = 20, kernel = 'rbf')\n",
    "\n",
    "🔹Logistic Regression → 0.7353 (C = 10)\n",
    "\n",
    "Conclusion: Random Forest shows the highest performance and is the most effective model for predicting movie success."
   ]
  }
 ],
 "metadata": {
  "kernelspec": {
   "display_name": "Python [conda env:base] *",
   "language": "python",
   "name": "conda-base-py"
  },
  "language_info": {
   "codemirror_mode": {
    "name": "ipython",
    "version": 3
   },
   "file_extension": ".py",
   "mimetype": "text/x-python",
   "name": "python",
   "nbconvert_exporter": "python",
   "pygments_lexer": "ipython3",
   "version": "3.13.5"
  }
 },
 "nbformat": 4,
 "nbformat_minor": 5
}
